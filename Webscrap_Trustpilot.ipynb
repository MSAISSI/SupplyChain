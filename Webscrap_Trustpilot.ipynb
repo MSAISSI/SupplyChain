{
  "nbformat": 4,
  "nbformat_minor": 0,
  "metadata": {
    "colab": {
      "provenance": []
    },
    "kernelspec": {
      "name": "python3",
      "display_name": "Python 3"
    },
    "language_info": {
      "name": "python"
    }
  },
  "cells": [
    {
      "cell_type": "markdown",
      "source": [
        "**Import des librairies**"
      ],
      "metadata": {
        "id": "K7yhH1mpPvEP"
      }
    },
    {
      "cell_type": "code",
      "execution_count": 1,
      "metadata": {
        "id": "0Q-qTjAs5Af1"
      },
      "outputs": [],
      "source": [
        "import requests\n",
        "from bs4 import BeautifulSoup\n",
        "import pandas as pd\n"
      ]
    },
    {
      "cell_type": "markdown",
      "source": [
        "**Test de récupération d'infos sur une page de review**"
      ],
      "metadata": {
        "id": "lSzY6wlSVcrs"
      }
    },
    {
      "cell_type": "code",
      "source": [
        "url = 'https://www.trustpilot.com/review/www.dugood.org?page=1&stars=5'\n",
        "response = requests.get(url)\n",
        "\n",
        "soup = BeautifulSoup(response.text, 'html.parser')\n",
        "\n",
        "reviews = soup.find_all('div', class_='styles_reviewCardInner__EwDq2')\n",
        "reviews[0].get_text()"
      ],
      "metadata": {
        "id": "Rb2z61pQVWCN"
      },
      "execution_count": null,
      "outputs": []
    },
    {
      "cell_type": "code",
      "source": [
        "# On va chercher le nombre de page à parcourir\n",
        "nb_pages = int(soup.find(\"a\", attrs = {'name' :\"pagination-button-last\"}).get_text())"
      ],
      "metadata": {
        "id": "Xz0TQJkHNuk1"
      },
      "execution_count": 5,
      "outputs": []
    },
    {
      "cell_type": "code",
      "source": [
        "# On va chercher le nom de l'entreprise\n",
        "entreprise = soup.find(\"h1\").find(\"span\").get_text().strip()"
      ],
      "metadata": {
        "id": "sAQQC6CkE7kI"
      },
      "execution_count": 6,
      "outputs": []
    },
    {
      "cell_type": "code",
      "source": [
        "reviews[0].find(class_=\"typography_heading-xxs__QKBS8 typography_appearance-default__AAY17\").text.strip()"
      ],
      "metadata": {
        "colab": {
          "base_uri": "https://localhost:8080/",
          "height": 35
        },
        "id": "rBqnXk4__Geu",
        "outputId": "275f1757-4649-49d4-86d0-d2fcb2ff515f"
      },
      "execution_count": 7,
      "outputs": [
        {
          "output_type": "execute_result",
          "data": {
            "text/plain": [
              "'Ichoku'"
            ],
            "application/vnd.google.colaboratory.intrinsic+json": {
              "type": "string"
            }
          },
          "metadata": {},
          "execution_count": 7
        }
      ]
    },
    {
      "cell_type": "code",
      "source": [
        "reviews[0].find(class_=\"typography_body-m__xgxZ_ typography_appearance-subtle__8_H2l styles_detailsIcon__Fo_ua\").get_text()"
      ],
      "metadata": {
        "colab": {
          "base_uri": "https://localhost:8080/",
          "height": 35
        },
        "id": "_LgIXYBZ_bnC",
        "outputId": "52c61e08-8551-4b98-9609-c606d1c74aa6"
      },
      "execution_count": 8,
      "outputs": [
        {
          "output_type": "execute_result",
          "data": {
            "text/plain": [
              "'NG'"
            ],
            "application/vnd.google.colaboratory.intrinsic+json": {
              "type": "string"
            }
          },
          "metadata": {},
          "execution_count": 8
        }
      ]
    },
    {
      "cell_type": "code",
      "source": [
        "int(reviews[0].find(class_=\"typography_body-m__xgxZ_ typography_appearance-subtle__8_H2l\").get_text().split()[0])"
      ],
      "metadata": {
        "colab": {
          "base_uri": "https://localhost:8080/"
        },
        "id": "Gvp9L_uy_xEC",
        "outputId": "e46ee4e4-cc9a-4b68-eb4d-7fb202ab6191"
      },
      "execution_count": 9,
      "outputs": [
        {
          "output_type": "execute_result",
          "data": {
            "text/plain": [
              "2"
            ]
          },
          "metadata": {},
          "execution_count": 9
        }
      ]
    },
    {
      "cell_type": "code",
      "source": [
        "reviews[0].find('time').get('datetime')"
      ],
      "metadata": {
        "colab": {
          "base_uri": "https://localhost:8080/",
          "height": 35
        },
        "id": "xEFB3DEzC2oc",
        "outputId": "be3f4c6b-d63f-4419-c638-9df7aa8df76d"
      },
      "execution_count": 10,
      "outputs": [
        {
          "output_type": "execute_result",
          "data": {
            "text/plain": [
              "'2023-10-27T19:30:24.000Z'"
            ],
            "application/vnd.google.colaboratory.intrinsic+json": {
              "type": "string"
            }
          },
          "metadata": {},
          "execution_count": 10
        }
      ]
    },
    {
      "cell_type": "code",
      "source": [
        "reviews[0].find(class_=\"typography_heading-s__f7029 typography_appearance-default__AAY17\").get_text()"
      ],
      "metadata": {
        "colab": {
          "base_uri": "https://localhost:8080/",
          "height": 35
        },
        "id": "NqQv_Q9YACqA",
        "outputId": "08f2da5e-950a-4e0f-e224-565be181aed4"
      },
      "execution_count": 11,
      "outputs": [
        {
          "output_type": "execute_result",
          "data": {
            "text/plain": [
              "'I recently re-financed a truck note…'"
            ],
            "application/vnd.google.colaboratory.intrinsic+json": {
              "type": "string"
            }
          },
          "metadata": {},
          "execution_count": 11
        }
      ]
    },
    {
      "cell_type": "code",
      "source": [
        "reviews[0].find(class_=\"typography_body-l__KUYFJ typography_appearance-default__AAY17 typography_color-black__5LYEn\").get_text()"
      ],
      "metadata": {
        "colab": {
          "base_uri": "https://localhost:8080/",
          "height": 52
        },
        "id": "wy2KFTZfCh06",
        "outputId": "bedaab63-ac84-421f-b9e1-f70c91f9b013"
      },
      "execution_count": 12,
      "outputs": [
        {
          "output_type": "execute_result",
          "data": {
            "text/plain": [
              "'I recently re-financed a truck note with DuGood Credit Union. The process was smooth and easy, the loan officer was friendly and accommodating and we received a better rate and saved a year in terms of payments! Thanks for helping us save money.'"
            ],
            "application/vnd.google.colaboratory.intrinsic+json": {
              "type": "string"
            }
          },
          "metadata": {},
          "execution_count": 12
        }
      ]
    },
    {
      "cell_type": "markdown",
      "source": [
        "**Récupération des infos sur une page entière**"
      ],
      "metadata": {
        "id": "1_8d7JDKVnnB"
      }
    },
    {
      "cell_type": "code",
      "source": [
        "lieux,pseudos,nbs_review,dates_review,titres_review,textes_review = [],[],[],[],[],[]\n",
        "\n",
        "for review in reviews :\n",
        "  lieu = review.find(class_=\"typography_body-m__xgxZ_ typography_appearance-subtle__8_H2l styles_detailsIcon__Fo_ua\").text.strip()\n",
        "  lieux.append(lieu)\n",
        "\n",
        "  pseudo = review.find(class_=\"typography_heading-xxs__QKBS8 typography_appearance-default__AAY17\").text.strip()\n",
        "  pseudos.append(pseudo)\n",
        "\n",
        "  nb_review = int(review.find(class_=\"typography_body-m__xgxZ_ typography_appearance-subtle__8_H2l\").text.strip().split()[0])\n",
        "  nbs_review.append(nb_review)\n",
        "\n",
        "  date_review = review.find('time').get('datetime')\n",
        "  dates_review.append(date_review)\n",
        "\n",
        "  titre_review = review.find(class_=\"typography_heading-s__f7029 typography_appearance-default__AAY17\").text.strip()\n",
        "  titres_review.append(titre_review)\n",
        "\n",
        "  texte_review = review.find(class_=\"typography_body-l__KUYFJ typography_appearance-default__AAY17 typography_color-black__5LYEn\").text.strip()\n",
        "  textes_review.append(texte_review)"
      ],
      "metadata": {
        "id": "3vcBwExBHLpH"
      },
      "execution_count": 13,
      "outputs": []
    },
    {
      "cell_type": "markdown",
      "source": [
        "**Fonction pour récupérer les infos d'une entreprise**"
      ],
      "metadata": {
        "id": "Xc7Ny0RyVsfV"
      }
    },
    {
      "cell_type": "code",
      "source": [
        "# FONCTION POUR RECUPERER LE NOMBRE DE PAGE EN TRIANT PAR ETOILE\n",
        "\n",
        "def nb_pages (url, star):\n",
        "  # Récupère le nombre de page d'une URL filtrée sur un nombre d'étoile\n",
        "  url_star = url+\"?stars=\"+str(star)\n",
        "  response_star = requests.get(url_star)\n",
        "  soup_star = BeautifulSoup(response_star.text, 'html.parser')\n",
        "  if (soup_star.find(\"a\", attrs = {'name' :\"pagination-button-last\"})) is None :\n",
        "    if (soup_star.find(\"a\", attrs = {'name' :\"pagination-button-5\"})) is None :\n",
        "      if (soup_star.find(\"a\", attrs = {'name' :\"pagination-button-4\"})) is None :\n",
        "        if (soup_star.find(\"a\", attrs = {'name' :\"pagination-button-3\"})) is None :\n",
        "          if (soup_star.find(\"a\", attrs = {'name' :\"pagination-button-2\"})) is None :\n",
        "            if (soup_star.find(\"a\", attrs = {'name' :\"pagination-button-1\"})) is None :\n",
        "              nb_page = 0\n",
        "            else :\n",
        "              nb_page = 1\n",
        "          else :\n",
        "            nb_page = 2\n",
        "        else :\n",
        "          nb_page = 3\n",
        "      else :\n",
        "        nb_page = 4\n",
        "    else :\n",
        "      nb_page = 5\n",
        "  else :\n",
        "    nb_page = int(soup_star.find(\"a\", attrs = {'name' :\"pagination-button-last\"}).get_text())\n",
        "  return nb_page\n",
        "\n",
        "\n",
        "\n",
        "# FONCTION POUR RECUPERER LES INFOS SUR UNE PAGE EN FONCTION DE L'URL, NOMBRE D'ETOILE ET PAGE\n",
        "\n",
        "def recup_review_page (url, etoile, page):\n",
        "  # Récupère les infos d'une URL en fonction du nombre d'étoile, et du numéro de page\n",
        "  notes,lieux,pseudos,nbs_review,dates_review,titres_review,textes_review = [],[],[],[],[],[],[]\n",
        "  if page == 1 :\n",
        "    url_page = url+'?stars='+str(etoile)\n",
        "  else :\n",
        "    url_page = url+'?page='+str(page)+\"&stars=\"+str(etoile)\n",
        "  #print(url_page)\n",
        "  response = requests.get(url_page)\n",
        "\n",
        "  soup_response = BeautifulSoup(response.text, 'html.parser')\n",
        "\n",
        "  reviews_response = soup_response.find_all('div', class_='styles_reviewCardInner__EwDq2')\n",
        "\n",
        "  for review in reviews_response :\n",
        "    notes.append(etoile)\n",
        "\n",
        "    lieu = review.find(class_=\"typography_body-m__xgxZ_ typography_appearance-subtle__8_H2l styles_detailsIcon__Fo_ua\").text.strip()\n",
        "    lieux.append(lieu)\n",
        "\n",
        "    pseudo = review.find(class_=\"typography_heading-xxs__QKBS8 typography_appearance-default__AAY17\").text.strip()\n",
        "    pseudos.append(pseudo)\n",
        "\n",
        "    nb_review = int(review.find(class_=\"typography_body-m__xgxZ_ typography_appearance-subtle__8_H2l\").text.strip().split()[0])\n",
        "    nbs_review.append(nb_review)\n",
        "\n",
        "    date_review = review.find('time').get('datetime')\n",
        "    dates_review.append(date_review)\n",
        "\n",
        "    titre_review = review.find(class_=\"typography_heading-s__f7029 typography_appearance-default__AAY17\").get_text()\n",
        "    titres_review.append(titre_review)\n",
        "\n",
        "    if review.find(class_=\"typography_body-l__KUYFJ typography_appearance-default__AAY17 typography_color-black__5LYEn\") is None :\n",
        "      textes_review.append(\"\")\n",
        "    else :\n",
        "      texte_review = review.find(class_=\"typography_body-l__KUYFJ typography_appearance-default__AAY17 typography_color-black__5LYEn\").text.strip()\n",
        "      textes_review.append(texte_review)\n",
        "\n",
        "  df_page = pd.DataFrame(list(zip(notes,lieux,pseudos,nbs_review,dates_review,titres_review,textes_review)), columns=[\"Note\",\"Lieu\", \"Pseudo\", \"Nb_Review\",\"Date\",\"Titre\",\"Review\"])\n",
        "  return df_page\n",
        "\n",
        "\n",
        "# FONCTION POUR RECUPERER TOUTES LES INFOS D'UNE URL\n",
        "# UTILISE LES 2 FONCTIONS PRECEDENTES\n",
        "\n",
        "def recup_review (url):\n",
        "  df_review = pd.DataFrame(columns=[\"Note\",\"Lieu\", \"Pseudo\", \"Nb_Review\",\"Date\",\"Titre\",\"Review\"])\n",
        "  for etoile in range(1,6):\n",
        "    nombre_pages = nb_pages(url, etoile)\n",
        "    #print(nombre_pages)\n",
        "    if nombre_pages > 0 :\n",
        "      for page in range(1,nombre_pages+1) :\n",
        "        df_page = recup_review_page (url, etoile, page)\n",
        "        df_review_concat = pd.concat([df_review, df_page])\n",
        "        df_review = df_review_concat\n",
        "  df_review.reset_index(drop=True, inplace=True)\n",
        "  return df_review"
      ],
      "metadata": {
        "id": "9pyz_pkQCrv2"
      },
      "execution_count": 17,
      "outputs": []
    },
    {
      "cell_type": "markdown",
      "source": [
        "**Test sur l'entreprise DuGood Credit Union**"
      ],
      "metadata": {
        "id": "8D3WjS4HWhpf"
      }
    },
    {
      "cell_type": "code",
      "source": [
        "url = 'https://www.trustpilot.com/review/www.dugood.org'"
      ],
      "metadata": {
        "id": "ADNvwzIhEHPV"
      },
      "execution_count": 4,
      "outputs": []
    },
    {
      "cell_type": "code",
      "source": [
        "df_page_review = recup_review(url)\n",
        "df_page_review"
      ],
      "metadata": {
        "colab": {
          "base_uri": "https://localhost:8080/",
          "height": 419
        },
        "id": "LSQz0Mj6NbvX",
        "outputId": "0f90eecc-6fbd-40e6-b9fb-8b3b5e776c61"
      },
      "execution_count": 18,
      "outputs": [
        {
          "output_type": "execute_result",
          "data": {
            "text/plain": [
              "     Note Lieu               Pseudo Nb_Review                      Date  \\\n",
              "0       1   US        Gerald Spence         2  2023-06-30T23:01:04.000Z   \n",
              "1       1   US        Gerald Spence         2  2023-06-23T20:58:34.000Z   \n",
              "2       1   US  LE Roi De La JUNGLE         1  2023-06-26T12:21:21.000Z   \n",
              "3       1   US                Linda         1  2023-05-04T23:44:08.000Z   \n",
              "4       1   US                 Tina         3  2021-03-08T22:36:36.000Z   \n",
              "...   ...  ...                  ...       ...                       ...   \n",
              "2216    5   US               George         3  2019-12-06T20:25:29.000Z   \n",
              "2217    5   US                 Lene         6  2019-12-06T19:56:30.000Z   \n",
              "2218    5   US              Dolores         1  2019-12-01T23:19:33.000Z   \n",
              "2219    5   US               Martha         1  2019-12-01T19:50:05.000Z   \n",
              "2220    5   US                Dwain         2  2019-11-27T23:36:22.000Z   \n",
              "\n",
              "                                        Titre  \\\n",
              "0        I own 1 arce of land on Toledo Bend…   \n",
              "1           Weaponized against ordinary hard…   \n",
              "2                                 Credit card   \n",
              "3                    If I could leave 0 stars   \n",
              "4              You've got to be kidding me!!!   \n",
              "...                                       ...   \n",
              "2216                                Very easy   \n",
              "2217              Everything went very smooth   \n",
              "2218         Tara with DuGood helped me with…   \n",
              "2219  I was treated very well and everything…   \n",
              "2220        Buying a new car is always a pain   \n",
              "\n",
              "                                                 Review  \n",
              "0     I own 1 arce of land on Toledo Bend lake with ...  \n",
              "1     Weaponized against ordinary hard working middl...  \n",
              "2     Credit card please I'm Adleradlervoltaire1gmai...  \n",
              "3     If I could leave 0 stars, I would.  The loan d...  \n",
              "4     You've got to be kidding me!!!! $10.00 to get ...  \n",
              "...                                                 ...  \n",
              "2216  I was pleased with the easy way it was to get ...  \n",
              "2217                                                     \n",
              "2218  Tara with DuGood helped me with everything. Al...  \n",
              "2219  I was treated very well and everything needed ...  \n",
              "2220  Buying a new car is always a pain. Alicia Paul...  \n",
              "\n",
              "[2221 rows x 7 columns]"
            ],
            "text/html": [
              "\n",
              "  <div id=\"df-8bb20a94-051f-43f8-91c1-4163f2c58b51\" class=\"colab-df-container\">\n",
              "    <div>\n",
              "<style scoped>\n",
              "    .dataframe tbody tr th:only-of-type {\n",
              "        vertical-align: middle;\n",
              "    }\n",
              "\n",
              "    .dataframe tbody tr th {\n",
              "        vertical-align: top;\n",
              "    }\n",
              "\n",
              "    .dataframe thead th {\n",
              "        text-align: right;\n",
              "    }\n",
              "</style>\n",
              "<table border=\"1\" class=\"dataframe\">\n",
              "  <thead>\n",
              "    <tr style=\"text-align: right;\">\n",
              "      <th></th>\n",
              "      <th>Note</th>\n",
              "      <th>Lieu</th>\n",
              "      <th>Pseudo</th>\n",
              "      <th>Nb_Review</th>\n",
              "      <th>Date</th>\n",
              "      <th>Titre</th>\n",
              "      <th>Review</th>\n",
              "    </tr>\n",
              "  </thead>\n",
              "  <tbody>\n",
              "    <tr>\n",
              "      <th>0</th>\n",
              "      <td>1</td>\n",
              "      <td>US</td>\n",
              "      <td>Gerald Spence</td>\n",
              "      <td>2</td>\n",
              "      <td>2023-06-30T23:01:04.000Z</td>\n",
              "      <td>I own 1 arce of land on Toledo Bend…</td>\n",
              "      <td>I own 1 arce of land on Toledo Bend lake with ...</td>\n",
              "    </tr>\n",
              "    <tr>\n",
              "      <th>1</th>\n",
              "      <td>1</td>\n",
              "      <td>US</td>\n",
              "      <td>Gerald Spence</td>\n",
              "      <td>2</td>\n",
              "      <td>2023-06-23T20:58:34.000Z</td>\n",
              "      <td>Weaponized against ordinary hard…</td>\n",
              "      <td>Weaponized against ordinary hard working middl...</td>\n",
              "    </tr>\n",
              "    <tr>\n",
              "      <th>2</th>\n",
              "      <td>1</td>\n",
              "      <td>US</td>\n",
              "      <td>LE Roi De La JUNGLE</td>\n",
              "      <td>1</td>\n",
              "      <td>2023-06-26T12:21:21.000Z</td>\n",
              "      <td>Credit card</td>\n",
              "      <td>Credit card please I'm Adleradlervoltaire1gmai...</td>\n",
              "    </tr>\n",
              "    <tr>\n",
              "      <th>3</th>\n",
              "      <td>1</td>\n",
              "      <td>US</td>\n",
              "      <td>Linda</td>\n",
              "      <td>1</td>\n",
              "      <td>2023-05-04T23:44:08.000Z</td>\n",
              "      <td>If I could leave 0 stars</td>\n",
              "      <td>If I could leave 0 stars, I would.  The loan d...</td>\n",
              "    </tr>\n",
              "    <tr>\n",
              "      <th>4</th>\n",
              "      <td>1</td>\n",
              "      <td>US</td>\n",
              "      <td>Tina</td>\n",
              "      <td>3</td>\n",
              "      <td>2021-03-08T22:36:36.000Z</td>\n",
              "      <td>You've got to be kidding me!!!</td>\n",
              "      <td>You've got to be kidding me!!!! $10.00 to get ...</td>\n",
              "    </tr>\n",
              "    <tr>\n",
              "      <th>...</th>\n",
              "      <td>...</td>\n",
              "      <td>...</td>\n",
              "      <td>...</td>\n",
              "      <td>...</td>\n",
              "      <td>...</td>\n",
              "      <td>...</td>\n",
              "      <td>...</td>\n",
              "    </tr>\n",
              "    <tr>\n",
              "      <th>2216</th>\n",
              "      <td>5</td>\n",
              "      <td>US</td>\n",
              "      <td>George</td>\n",
              "      <td>3</td>\n",
              "      <td>2019-12-06T20:25:29.000Z</td>\n",
              "      <td>Very easy</td>\n",
              "      <td>I was pleased with the easy way it was to get ...</td>\n",
              "    </tr>\n",
              "    <tr>\n",
              "      <th>2217</th>\n",
              "      <td>5</td>\n",
              "      <td>US</td>\n",
              "      <td>Lene</td>\n",
              "      <td>6</td>\n",
              "      <td>2019-12-06T19:56:30.000Z</td>\n",
              "      <td>Everything went very smooth</td>\n",
              "      <td></td>\n",
              "    </tr>\n",
              "    <tr>\n",
              "      <th>2218</th>\n",
              "      <td>5</td>\n",
              "      <td>US</td>\n",
              "      <td>Dolores</td>\n",
              "      <td>1</td>\n",
              "      <td>2019-12-01T23:19:33.000Z</td>\n",
              "      <td>Tara with DuGood helped me with…</td>\n",
              "      <td>Tara with DuGood helped me with everything. Al...</td>\n",
              "    </tr>\n",
              "    <tr>\n",
              "      <th>2219</th>\n",
              "      <td>5</td>\n",
              "      <td>US</td>\n",
              "      <td>Martha</td>\n",
              "      <td>1</td>\n",
              "      <td>2019-12-01T19:50:05.000Z</td>\n",
              "      <td>I was treated very well and everything…</td>\n",
              "      <td>I was treated very well and everything needed ...</td>\n",
              "    </tr>\n",
              "    <tr>\n",
              "      <th>2220</th>\n",
              "      <td>5</td>\n",
              "      <td>US</td>\n",
              "      <td>Dwain</td>\n",
              "      <td>2</td>\n",
              "      <td>2019-11-27T23:36:22.000Z</td>\n",
              "      <td>Buying a new car is always a pain</td>\n",
              "      <td>Buying a new car is always a pain. Alicia Paul...</td>\n",
              "    </tr>\n",
              "  </tbody>\n",
              "</table>\n",
              "<p>2221 rows × 7 columns</p>\n",
              "</div>\n",
              "    <div class=\"colab-df-buttons\">\n",
              "\n",
              "  <div class=\"colab-df-container\">\n",
              "    <button class=\"colab-df-convert\" onclick=\"convertToInteractive('df-8bb20a94-051f-43f8-91c1-4163f2c58b51')\"\n",
              "            title=\"Convert this dataframe to an interactive table.\"\n",
              "            style=\"display:none;\">\n",
              "\n",
              "  <svg xmlns=\"http://www.w3.org/2000/svg\" height=\"24px\" viewBox=\"0 -960 960 960\">\n",
              "    <path d=\"M120-120v-720h720v720H120Zm60-500h600v-160H180v160Zm220 220h160v-160H400v160Zm0 220h160v-160H400v160ZM180-400h160v-160H180v160Zm440 0h160v-160H620v160ZM180-180h160v-160H180v160Zm440 0h160v-160H620v160Z\"/>\n",
              "  </svg>\n",
              "    </button>\n",
              "\n",
              "  <style>\n",
              "    .colab-df-container {\n",
              "      display:flex;\n",
              "      gap: 12px;\n",
              "    }\n",
              "\n",
              "    .colab-df-convert {\n",
              "      background-color: #E8F0FE;\n",
              "      border: none;\n",
              "      border-radius: 50%;\n",
              "      cursor: pointer;\n",
              "      display: none;\n",
              "      fill: #1967D2;\n",
              "      height: 32px;\n",
              "      padding: 0 0 0 0;\n",
              "      width: 32px;\n",
              "    }\n",
              "\n",
              "    .colab-df-convert:hover {\n",
              "      background-color: #E2EBFA;\n",
              "      box-shadow: 0px 1px 2px rgba(60, 64, 67, 0.3), 0px 1px 3px 1px rgba(60, 64, 67, 0.15);\n",
              "      fill: #174EA6;\n",
              "    }\n",
              "\n",
              "    .colab-df-buttons div {\n",
              "      margin-bottom: 4px;\n",
              "    }\n",
              "\n",
              "    [theme=dark] .colab-df-convert {\n",
              "      background-color: #3B4455;\n",
              "      fill: #D2E3FC;\n",
              "    }\n",
              "\n",
              "    [theme=dark] .colab-df-convert:hover {\n",
              "      background-color: #434B5C;\n",
              "      box-shadow: 0px 1px 3px 1px rgba(0, 0, 0, 0.15);\n",
              "      filter: drop-shadow(0px 1px 2px rgba(0, 0, 0, 0.3));\n",
              "      fill: #FFFFFF;\n",
              "    }\n",
              "  </style>\n",
              "\n",
              "    <script>\n",
              "      const buttonEl =\n",
              "        document.querySelector('#df-8bb20a94-051f-43f8-91c1-4163f2c58b51 button.colab-df-convert');\n",
              "      buttonEl.style.display =\n",
              "        google.colab.kernel.accessAllowed ? 'block' : 'none';\n",
              "\n",
              "      async function convertToInteractive(key) {\n",
              "        const element = document.querySelector('#df-8bb20a94-051f-43f8-91c1-4163f2c58b51');\n",
              "        const dataTable =\n",
              "          await google.colab.kernel.invokeFunction('convertToInteractive',\n",
              "                                                    [key], {});\n",
              "        if (!dataTable) return;\n",
              "\n",
              "        const docLinkHtml = 'Like what you see? Visit the ' +\n",
              "          '<a target=\"_blank\" href=https://colab.research.google.com/notebooks/data_table.ipynb>data table notebook</a>'\n",
              "          + ' to learn more about interactive tables.';\n",
              "        element.innerHTML = '';\n",
              "        dataTable['output_type'] = 'display_data';\n",
              "        await google.colab.output.renderOutput(dataTable, element);\n",
              "        const docLink = document.createElement('div');\n",
              "        docLink.innerHTML = docLinkHtml;\n",
              "        element.appendChild(docLink);\n",
              "      }\n",
              "    </script>\n",
              "  </div>\n",
              "\n",
              "\n",
              "<div id=\"df-2f75151c-49d8-4711-8d86-da44b55e643f\">\n",
              "  <button class=\"colab-df-quickchart\" onclick=\"quickchart('df-2f75151c-49d8-4711-8d86-da44b55e643f')\"\n",
              "            title=\"Suggest charts.\"\n",
              "            style=\"display:none;\">\n",
              "\n",
              "<svg xmlns=\"http://www.w3.org/2000/svg\" height=\"24px\"viewBox=\"0 0 24 24\"\n",
              "     width=\"24px\">\n",
              "    <g>\n",
              "        <path d=\"M19 3H5c-1.1 0-2 .9-2 2v14c0 1.1.9 2 2 2h14c1.1 0 2-.9 2-2V5c0-1.1-.9-2-2-2zM9 17H7v-7h2v7zm4 0h-2V7h2v10zm4 0h-2v-4h2v4z\"/>\n",
              "    </g>\n",
              "</svg>\n",
              "  </button>\n",
              "\n",
              "<style>\n",
              "  .colab-df-quickchart {\n",
              "      --bg-color: #E8F0FE;\n",
              "      --fill-color: #1967D2;\n",
              "      --hover-bg-color: #E2EBFA;\n",
              "      --hover-fill-color: #174EA6;\n",
              "      --disabled-fill-color: #AAA;\n",
              "      --disabled-bg-color: #DDD;\n",
              "  }\n",
              "\n",
              "  [theme=dark] .colab-df-quickchart {\n",
              "      --bg-color: #3B4455;\n",
              "      --fill-color: #D2E3FC;\n",
              "      --hover-bg-color: #434B5C;\n",
              "      --hover-fill-color: #FFFFFF;\n",
              "      --disabled-bg-color: #3B4455;\n",
              "      --disabled-fill-color: #666;\n",
              "  }\n",
              "\n",
              "  .colab-df-quickchart {\n",
              "    background-color: var(--bg-color);\n",
              "    border: none;\n",
              "    border-radius: 50%;\n",
              "    cursor: pointer;\n",
              "    display: none;\n",
              "    fill: var(--fill-color);\n",
              "    height: 32px;\n",
              "    padding: 0;\n",
              "    width: 32px;\n",
              "  }\n",
              "\n",
              "  .colab-df-quickchart:hover {\n",
              "    background-color: var(--hover-bg-color);\n",
              "    box-shadow: 0 1px 2px rgba(60, 64, 67, 0.3), 0 1px 3px 1px rgba(60, 64, 67, 0.15);\n",
              "    fill: var(--button-hover-fill-color);\n",
              "  }\n",
              "\n",
              "  .colab-df-quickchart-complete:disabled,\n",
              "  .colab-df-quickchart-complete:disabled:hover {\n",
              "    background-color: var(--disabled-bg-color);\n",
              "    fill: var(--disabled-fill-color);\n",
              "    box-shadow: none;\n",
              "  }\n",
              "\n",
              "  .colab-df-spinner {\n",
              "    border: 2px solid var(--fill-color);\n",
              "    border-color: transparent;\n",
              "    border-bottom-color: var(--fill-color);\n",
              "    animation:\n",
              "      spin 1s steps(1) infinite;\n",
              "  }\n",
              "\n",
              "  @keyframes spin {\n",
              "    0% {\n",
              "      border-color: transparent;\n",
              "      border-bottom-color: var(--fill-color);\n",
              "      border-left-color: var(--fill-color);\n",
              "    }\n",
              "    20% {\n",
              "      border-color: transparent;\n",
              "      border-left-color: var(--fill-color);\n",
              "      border-top-color: var(--fill-color);\n",
              "    }\n",
              "    30% {\n",
              "      border-color: transparent;\n",
              "      border-left-color: var(--fill-color);\n",
              "      border-top-color: var(--fill-color);\n",
              "      border-right-color: var(--fill-color);\n",
              "    }\n",
              "    40% {\n",
              "      border-color: transparent;\n",
              "      border-right-color: var(--fill-color);\n",
              "      border-top-color: var(--fill-color);\n",
              "    }\n",
              "    60% {\n",
              "      border-color: transparent;\n",
              "      border-right-color: var(--fill-color);\n",
              "    }\n",
              "    80% {\n",
              "      border-color: transparent;\n",
              "      border-right-color: var(--fill-color);\n",
              "      border-bottom-color: var(--fill-color);\n",
              "    }\n",
              "    90% {\n",
              "      border-color: transparent;\n",
              "      border-bottom-color: var(--fill-color);\n",
              "    }\n",
              "  }\n",
              "</style>\n",
              "\n",
              "  <script>\n",
              "    async function quickchart(key) {\n",
              "      const quickchartButtonEl =\n",
              "        document.querySelector('#' + key + ' button');\n",
              "      quickchartButtonEl.disabled = true;  // To prevent multiple clicks.\n",
              "      quickchartButtonEl.classList.add('colab-df-spinner');\n",
              "      try {\n",
              "        const charts = await google.colab.kernel.invokeFunction(\n",
              "            'suggestCharts', [key], {});\n",
              "      } catch (error) {\n",
              "        console.error('Error during call to suggestCharts:', error);\n",
              "      }\n",
              "      quickchartButtonEl.classList.remove('colab-df-spinner');\n",
              "      quickchartButtonEl.classList.add('colab-df-quickchart-complete');\n",
              "    }\n",
              "    (() => {\n",
              "      let quickchartButtonEl =\n",
              "        document.querySelector('#df-2f75151c-49d8-4711-8d86-da44b55e643f button');\n",
              "      quickchartButtonEl.style.display =\n",
              "        google.colab.kernel.accessAllowed ? 'block' : 'none';\n",
              "    })();\n",
              "  </script>\n",
              "</div>\n",
              "    </div>\n",
              "  </div>\n"
            ]
          },
          "metadata": {},
          "execution_count": 18
        }
      ]
    },
    {
      "cell_type": "markdown",
      "source": [
        "**Test de récupération d'infos sur une page de listing d'entreprise**"
      ],
      "metadata": {
        "id": "ilFySlgdWpVk"
      }
    },
    {
      "cell_type": "code",
      "source": [],
      "metadata": {
        "id": "9lIn8IycPBiC"
      },
      "execution_count": null,
      "outputs": []
    }
  ]
}