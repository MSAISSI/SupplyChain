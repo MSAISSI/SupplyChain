{
 "cells": [
  {
   "cell_type": "code",
   "execution_count": 6,
   "metadata": {},
   "outputs": [],
   "source": [
    "import sqlite3\n",
    "import csv\n",
    "import re  "
   ]
  },
  {
   "cell_type": "code",
   "execution_count": 7,
   "metadata": {},
   "outputs": [],
   "source": [
    "con = sqlite3.connect(\"projet.db\")\n",
    "cur = con.cursor()"
   ]
  },
  {
   "cell_type": "code",
   "execution_count": 8,
   "metadata": {},
   "outputs": [
    {
     "data": {
      "text/plain": [
       "('entreprise',)"
      ]
     },
     "execution_count": 8,
     "metadata": {},
     "output_type": "execute_result"
    }
   ],
   "source": [
    "cur.execute(\"\"\"CREATE TABLE IF NOT EXISTS entreprise (\n",
    "                    entreprise_id INTEGER NOT NULL,\n",
    "                    nom VARCHAR,\n",
    "                    domaine VARCHAR,\n",
    "                    nombre_avis INTEGER,\n",
    "                    note_trustscore FLOAT,\n",
    "                    PRIMARY KEY (entreprise_id)\n",
    "               )\"\"\")\n",
    "\n",
    "res = cur.execute(\"SELECT name FROM sqlite_master\")\n",
    "res.fetchone()"
   ]
  },
  {
   "cell_type": "code",
   "execution_count": 9,
   "metadata": {},
   "outputs": [],
   "source": [
    "\n",
    "\n",
    "# Ouverture du fichier CSV (remplacez \"votre_fichier.csv\" par le nom de votre fichier CSV)\n",
    "with open(\"DonneesOverViewSQL.csv\", \"r\") as csvfile:\n",
    "    # Création d'un objet DictReader pour lire le fichier CSV\n",
    "    csvreader = csv.DictReader(csvfile)\n",
    "    \n",
    "    # Initialisation de l'entreprise_id à 1\n",
    "    entreprise_id = 1\n",
    "    \n",
    "    # Itération à travers chaque ligne du fichier CSV\n",
    "    for row in csvreader:\n",
    "        # Extraction des données de chaque colonne\n",
    "        nom = row[\"Nom\"]\n",
    "        domaine = row[\"Domaine\"]\n",
    "        \n",
    "        # Utilisation d'une expression régulière pour extraire le nombre d'avis\n",
    "        nombre_avis_texte = row[\"Avis\"]\n",
    "        nombre_avis_match = re.search(r'\\d+(?:,\\d+)?', nombre_avis_texte)\n",
    "        if nombre_avis_match:\n",
    "            nombre_avis = int(nombre_avis_match.group().replace(',', ''))\n",
    "        else:\n",
    "            nombre_avis = 0  # Valeur par défaut si aucun nombre n'est trouvé\n",
    "        note_trustscore = row[\"Note\"]\n",
    "        \n",
    "        # Requête SQL d'insertion des données dans la table\n",
    "        cur.execute(\"INSERT INTO entreprise (entreprise_id, nom, domaine, nombre_avis, note_trustscore) VALUES (?, ?, ?, ?, ?)\",\n",
    "                       (entreprise_id, nom, domaine, nombre_avis, note_trustscore))\n",
    "        \n",
    "        # Incrémentation de l'entreprise_id pour la prochaine itération\n",
    "        entreprise_id += 1\n"
   ]
  },
  {
   "cell_type": "code",
   "execution_count": 10,
   "metadata": {},
   "outputs": [
    {
     "name": "stdout",
     "output_type": "stream",
     "text": [
      "(1, 'Boomerang Pet ID Tags', 'Pet Supply Store', 10985, 4.9)\n",
      "(2, 'Dog Tag Art', 'Pet Store', 4052, 4.9)\n",
      "(3, 'Paw Print Genetics', 'Veterinarian', 3471, 4.9)\n",
      "(4, 'TadiBrothers', 'Truck Parts Supplier', 1748, 4.9)\n",
      "(5, 'Champlain Valley Organics LLC - Vermont Pure CBD', 'Herbalist', 997, 4.9)\n",
      "(6, 'Bluegrass Hemp Oil', 'Animal Hospital', 861, 4.9)\n",
      "(7, 'CollarTags', 'Animals & Pets', 844, 4.9)\n",
      "(8, 'PopArtYou', 'Gift Shop', 576, 4.9)\n",
      "(9, 'Healing Harbors', 'Wellness Center', 489, 4.9)\n",
      "(10, 'Wag + Tail', 'Pet Store', 254, 4.9)\n",
      "(11, 'Oaktree Memorials', 'Decoration and Interior Design Store', 145, 4.9)\n",
      "(12, 'The Doting Dog Company', 'Pet Supply Store', 103, 4.9)\n",
      "(13, \"Life's Abundance\", 'Pet Store', 9956, 4.8)\n",
      "(14, 'Nomador', 'Pet Sitter', 7924, 4.8)\n",
      "(15, 'Pawrade', 'Pet Adoption Service', 3804, 4.8)\n",
      "(16, 'TrainPetDog', 'Dog Trainer', 3294, 4.8)\n",
      "(17, 'DogWatch Hidden Fences', 'Pet Store', 3212, 4.8)\n",
      "(18, 'ValuePetSupplies', 'Animal Feed Store', 2896, 4.8)\n",
      "(19, 'Keystone Puppies', 'Pet Store', 1329, 4.8)\n",
      "(20, \"Bailey's CBD\", 'Pet Supply Store', 833, 4.8)\n"
     ]
    }
   ],
   "source": [
    "cur.execute(\"SELECT * FROM entreprise LIMIT 20\")\n",
    "resultats = cur.fetchall()\n",
    "for row in resultats:\n",
    "    print(row)"
   ]
  },
  {
   "cell_type": "code",
   "execution_count": 11,
   "metadata": {},
   "outputs": [
    {
     "data": {
      "text/plain": [
       "[('entreprise',), ('categorie',)]"
      ]
     },
     "execution_count": 11,
     "metadata": {},
     "output_type": "execute_result"
    }
   ],
   "source": [
    "cur.execute(\"\"\"CREATE TABLE IF NOT EXISTS categorie (\n",
    "                    categorie_id INTEGER NOT NULL,\n",
    "                    nom VARCHAR,\n",
    "                    PRIMARY KEY (categorie_id)\n",
    "               )\"\"\")\n",
    "\n",
    "res = cur.execute(\"SELECT name FROM sqlite_master\")\n",
    "res.fetchall()"
   ]
  },
  {
   "cell_type": "code",
   "execution_count": 12,
   "metadata": {},
   "outputs": [],
   "source": [
    "# Ouverture du fichier CSV (remplacez \"votre_fichier.csv\" par le nom de votre fichier CSV)\n",
    "with open(\"DonneesOverViewSQL.csv\", \"r\") as csvfile:\n",
    "    # Création d'un objet DictReader pour lire le fichier CSV\n",
    "    csvreader = csv.DictReader(csvfile)\n",
    "    \n",
    "    # Ensemble pour stocker temporairement les catégories uniques\n",
    "    categories_uniques = set()\n",
    "    \n",
    "    # Itération à travers chaque ligne du fichier CSV\n",
    "    for row in csvreader:\n",
    "        # Extraction de la catégorie de chaque ligne\n",
    "        categorie = row[\"Categorie\"].strip()  # Utilisez la colonne appropriée\n",
    "        \n",
    "        # Ajout de la catégorie à l'ensemble\n",
    "        categories_uniques.add(categorie)\n",
    "\n",
    "# Initialisation de l'entreprise_id à 1\n",
    "categorie_id = 1\n",
    "\n",
    "# Itération à travers chaque catégorie triée\n",
    "for categorie in categories_uniques:\n",
    "    # Requête SQL d'insertion sans doublon dans la table categorie\n",
    "    cur.execute(\"INSERT INTO categorie (categorie_id, nom) VALUES (?,?)\", (categorie_id, categorie))\n",
    "    categorie_id += 1"
   ]
  },
  {
   "cell_type": "code",
   "execution_count": 13,
   "metadata": {},
   "outputs": [
    {
     "name": "stdout",
     "output_type": "stream",
     "text": [
      "(1, 'animals_pets')\n",
      "(2, 'restaurants_bars')\n",
      "(3, 'vehicles_transportation')\n",
      "(4, 'home_services')\n",
      "(5, 'travel_vacation')\n",
      "(6, 'shopping_fashion')\n",
      "(7, 'health_medical')\n",
      "(8, 'money_insurance')\n",
      "(9, 'electronics_technology')\n",
      "(10, 'legal_services_government')\n",
      "(11, 'events_entertainment')\n",
      "(12, 'business_services')\n",
      "(13, 'education_training')\n",
      "(14, 'media_publishing')\n",
      "(15, 'hobbies_crafts')\n",
      "(16, 'utilities')\n",
      "(17, 'public_local_services')\n",
      "(18, 'sports')\n",
      "(19, 'home_garden')\n"
     ]
    }
   ],
   "source": [
    "cur.execute(\"SELECT * FROM categorie LIMIT 30\")\n",
    "resultats = cur.fetchall()\n",
    "for row in resultats:\n",
    "    print(row)\n"
   ]
  },
  {
   "cell_type": "code",
   "execution_count": 14,
   "metadata": {},
   "outputs": [
    {
     "data": {
      "text/plain": [
       "[('entreprise',), ('categorie',), ('entreprise_categorie',)]"
      ]
     },
     "execution_count": 14,
     "metadata": {},
     "output_type": "execute_result"
    }
   ],
   "source": [
    "cur.execute(\"\"\"CREATE TABLE IF NOT EXISTS entreprise_categorie (\n",
    "                    entreprise_id INTEGER NOT NULL,\n",
    "                    categorie_id INTEGER NOT NULL,\n",
    "                    FOREIGN KEY (entreprise_id) REFERENCES entreprise (entreprise_id),\n",
    "                    FOREIGN KEY (categorie_id) REFERENCES categorie (categorie_id)\n",
    "               )\"\"\")\n",
    "\n",
    "res = cur.execute(\"SELECT name FROM sqlite_master\")\n",
    "res.fetchall()"
   ]
  },
  {
   "cell_type": "code",
   "execution_count": 15,
   "metadata": {},
   "outputs": [],
   "source": [
    "# Ouverture du fichier CSV (remplacez \"votre_fichier.csv\" par le nom de votre fichier CSV)\n",
    "with open(\"DonneesOverViewSQL.csv\", \"r\") as csvfile:\n",
    "    # Création d'un objet DictReader pour lire le fichier CSV\n",
    "    csvreader = csv.DictReader(csvfile)\n",
    "    \n",
    "    # Itération à travers chaque ligne du fichier CSV\n",
    "    for row in csvreader:\n",
    "        # Extraction des données de chaque colonne\n",
    "        nom_entreprise = row[\"Nom\"]\n",
    "        categorie = row[\"Categorie\"].strip()  # Utilisez la colonne appropriée\n",
    "        \n",
    "        # Obtention de l'ID de l'entreprise en fonction du nom\n",
    "        cur.execute(\"SELECT entreprise_id FROM entreprise WHERE nom = ?\", (nom_entreprise,))\n",
    "        entreprise_id = cur.fetchone()\n",
    "        \n",
    "        # Obtention de l'ID de la catégorie en fonction du nom\n",
    "        cur.execute(\"SELECT categorie_id FROM categorie WHERE nom = ?\", (categorie,))\n",
    "        categorie_id = cur.fetchone()\n",
    "        \n",
    "        # Vérification si les IDs ont été trouvés\n",
    "        if entreprise_id and categorie_id:\n",
    "            # Insertion dans la table entreprise_categorie\n",
    "            cur.execute(\"INSERT INTO entreprise_categorie (entreprise_id, categorie_id) VALUES (?, ?)\", (entreprise_id[0], categorie_id[0]))"
   ]
  },
  {
   "cell_type": "code",
   "execution_count": 16,
   "metadata": {},
   "outputs": [
    {
     "name": "stdout",
     "output_type": "stream",
     "text": [
      "(1, 1)\n",
      "(2, 1)\n",
      "(3, 1)\n",
      "(4, 1)\n",
      "(5, 1)\n",
      "(6, 1)\n",
      "(7, 1)\n",
      "(8, 1)\n",
      "(9, 1)\n",
      "(10, 1)\n",
      "(11, 1)\n",
      "(12, 1)\n",
      "(13, 1)\n",
      "(14, 1)\n",
      "(15, 1)\n",
      "(16, 1)\n",
      "(17, 1)\n",
      "(18, 1)\n",
      "(19, 1)\n",
      "(20, 1)\n",
      "(1, 1)\n",
      "(2, 1)\n",
      "(3, 1)\n",
      "(4, 1)\n",
      "(5, 1)\n",
      "(6, 1)\n",
      "(7, 1)\n",
      "(8, 1)\n",
      "(9, 1)\n",
      "(10, 1)\n"
     ]
    }
   ],
   "source": [
    "cur.execute(\"SELECT * FROM entreprise_categorie LIMIT 30\")\n",
    "resultats = cur.fetchall()\n",
    "for row in resultats:\n",
    "    print(row)"
   ]
  },
  {
   "cell_type": "code",
   "execution_count": 20,
   "metadata": {},
   "outputs": [
    {
     "name": "stdout",
     "output_type": "stream",
     "text": [
      "Nombre d'entreprises avec plus d'une catégorie : 308\n"
     ]
    }
   ],
   "source": [
    "query = '''\n",
    "    SELECT COUNT(a.entreprise_id) AS nombre_entreprises_plusieurs_categories\n",
    "    FROM (\n",
    "        SELECT entreprise_id, COUNT(categorie_id) AS nombre_categories\n",
    "        FROM entreprise_categorie\n",
    "        GROUP BY entreprise_id\n",
    "        HAVING nombre_categories > 1\n",
    "    ) AS a\n",
    "'''\n",
    "\n",
    "# Exécution de la requête\n",
    "cur.execute(query)\n",
    "result = cur.fetchone()\n",
    "\n",
    "# Affichage du résultat\n",
    "if result:\n",
    "    nombre_entreprises = result[0]\n",
    "    print(f\"Nombre d'entreprises avec plus d'une catégorie : {nombre_entreprises}\")"
   ]
  },
  {
   "cell_type": "code",
   "execution_count": 119,
   "metadata": {},
   "outputs": [],
   "source": [
    "con.commit()\n",
    "con.close()"
   ]
  }
 ],
 "metadata": {
  "kernelspec": {
   "display_name": "Python 3",
   "language": "python",
   "name": "python3"
  },
  "language_info": {
   "codemirror_mode": {
    "name": "ipython",
    "version": 3
   },
   "file_extension": ".py",
   "mimetype": "text/x-python",
   "name": "python",
   "nbconvert_exporter": "python",
   "pygments_lexer": "ipython3",
   "version": "3.9.6"
  }
 },
 "nbformat": 4,
 "nbformat_minor": 2
}
