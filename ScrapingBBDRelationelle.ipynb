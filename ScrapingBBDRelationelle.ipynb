{
 "cells": [
  {
   "cell_type": "markdown",
   "id": "75febe67",
   "metadata": {
    "id": "K7yhH1mpPvEP"
   },
   "source": [
    "**Import des librairies**"
   ]
  },
  {
   "cell_type": "code",
   "execution_count": 1,
   "id": "363a0b3d",
   "metadata": {},
   "outputs": [],
   "source": [
    "\n",
    "from bs4 import BeautifulSoup as bs\n",
    "import requests \n",
    "import pandas as pd\n",
    "import re\n"
   ]
  },
  {
   "cell_type": "markdown",
   "id": "297137fb",
   "metadata": {
    "id": "K7yhH1mpPvEP"
   },
   "source": [
    "**Connexion au site**"
   ]
  },
  {
   "cell_type": "code",
   "execution_count": 2,
   "id": "52af7e9a",
   "metadata": {},
   "outputs": [],
   "source": [
    "url = \"https://www.trustpilot.com/categories\"\n",
    "page = requests.get(url)  \n",
    "soup = bs(page.content, \"lxml\")\n",
    "\n",
    "\n",
    "\n"
   ]
  },
  {
   "cell_type": "markdown",
   "id": "f86002d4",
   "metadata": {
    "id": "K7yhH1mpPvEP"
   },
   "source": [
    "**Préparation de la liste de toutes les catégories**"
   ]
  },
  {
   "cell_type": "code",
   "execution_count": 3,
   "id": "087fe3da",
   "metadata": {},
   "outputs": [
    {
     "name": "stdout",
     "output_type": "stream",
     "text": [
      "['animals_pets', 'beauty_well-being', 'business_services', 'construction_manufacturing', 'education_training', 'electronics_technology', 'events_entertainment', 'food,_beverages_tobacco', 'health_medical', 'hobbies_crafts', 'home_garden', 'home_services', 'legal_services_government', 'media_publishing', 'money_insurance', 'public_local_services', 'restaurants_bars', 'shopping_fashion', 'sports', 'travel_vacation', 'utilities', 'vehicles_transportation']\n"
     ]
    }
   ],
   "source": [
    "categories = soup.find_all('div', class_ ='paper_paper__1PY90 paper_outline__lwsUX card_card__lQWDv card_noPadding__D8PcU styles_card__slNee')\n",
    "for i,category in enumerate(categories) :\n",
    "    temp =category.find(class_='typography_heading-xs__jSwUz typography_appearance-default__AAY17 styles_headingDisplayName__jetQq')    \n",
    "    temp=temp.text\n",
    "    temp =temp.replace(\"&\",\" \")\n",
    "    temp=re.sub(' +', ' ', temp)\n",
    "    temp =temp.replace(\" \",\"_\").lower()\n",
    "    categories[i] =temp\n",
    "print(categories)\n",
    "\n",
    "    \n"
   ]
  },
  {
   "cell_type": "markdown",
   "id": "a18e8d43",
   "metadata": {
    "id": "K7yhH1mpPvEP"
   },
   "source": [
    "**Boucler sur les catégories et récupérer les infos entreprises**"
   ]
  },
  {
   "cell_type": "code",
   "execution_count": 4,
   "id": "78b345fa",
   "metadata": {},
   "outputs": [
    {
     "name": "stdout",
     "output_type": "stream",
     "text": [
      "                                                    Nom  \\\n",
      "0                                 Boomerang Pet ID Tags   \n",
      "1                                           Dog Tag Art   \n",
      "2                                    Paw Print Genetics   \n",
      "3                                          TadiBrothers   \n",
      "4      Champlain Valley Organics LLC - Vermont Pure CBD   \n",
      "...                                                 ...   \n",
      "11015                                       Limo 4 Less   \n",
      "11016                                           Carstub   \n",
      "11017                                       RickRak.com   \n",
      "11018                                   Men On The Move   \n",
      "11019                               GermanAutoParts.com   \n",
      "\n",
      "                       Domaine                Categorie Note            Avis  \n",
      "0             Pet Supply Store             animals_pets  4.9  10,985 reviews  \n",
      "1                    Pet Store             animals_pets  4.9   4,052 reviews  \n",
      "2                 Veterinarian             animals_pets  4.9   3,471 reviews  \n",
      "3         Truck Parts Supplier             animals_pets  4.9   1,748 reviews  \n",
      "4                    Herbalist             animals_pets  4.9     997 reviews  \n",
      "...                        ...                      ...  ...             ...  \n",
      "11015  Airport Shuttle Service  vehicles_transportation  4.9   1,191 reviews  \n",
      "11016               Car Dealer  vehicles_transportation  4.9   1,129 reviews  \n",
      "11017   Motorcycle Parts Store  vehicles_transportation  4.9   1,051 reviews  \n",
      "11018    Car Accessories Store  vehicles_transportation  4.9   1,003 reviews  \n",
      "11019    Car Accessories Store  vehicles_transportation  4.9     944 reviews  \n",
      "\n",
      "[11020 rows x 5 columns]\n",
      "510.00574564933777\n",
      "['animals_pets' 'business_services' 'education_training'\n",
      " 'electronics_technology' 'events_entertainment' 'health_medical'\n",
      " 'hobbies_crafts' 'home_garden' 'home_services'\n",
      " 'legal_services_government' 'media_publishing' 'money_insurance'\n",
      " 'public_local_services' 'restaurants_bars' 'shopping_fashion' 'sports'\n",
      " 'travel_vacation' 'utilities' 'vehicles_transportation']\n"
     ]
    }
   ],
   "source": [
    "import time\n",
    "time_start=time.time()\n",
    "companies=[]\n",
    "for category in categories:\n",
    "    \n",
    "    for i in range (1,30):\n",
    "        url = f\"https://www.trustpilot.com/categories/{category}?page{i}\"\n",
    "        response = requests.get(url)\n",
    "        soup = bs(response.text, \"lxml\")\n",
    "        entreprises = soup.find_all(\"div\", class_=\"paper_paper__1PY90 paper_outline__lwsUX card_card__lQWDv card_noPadding__D8PcU styles_wrapper__2JOo2\")\n",
    "\n",
    "        for entreprise in entreprises:\n",
    "            nom_entreprise = entreprise.find(\"p\", class_=\"typography_heading-xs__jSwUz typography_appearance-default__AAY17 styles_displayName__GOhL2\").text\n",
    "            domaine = entreprise.find(\"span\", class_=\"typography_body-s__aY15Q typography_appearance-default__AAY17\").text\n",
    "            reviews_text = entreprise.find('p', class_='typography_body-m__xgxZ_ typography_appearance-subtle__8_H2l styles_ratingText__yQ5S7').text\n",
    "            note = reviews_text.split('|')[0].strip().replace('TrustScore ','')\n",
    "            nombre_avis = reviews_text.split('|')[-1].strip()\n",
    "            companies.append([nom_entreprise,domaine,category,note, nombre_avis])\n",
    "\n",
    "            \n",
    "df = pd.DataFrame(companies, columns=['Nom','Domaine','Categorie','Note','Avis'])\n",
    "time_end=time.time()\n",
    "temps =time_end-time_start\n",
    "print(df)\n",
    "print(temps)\n",
    "print(df['Categorie'].unique())\n",
    "df.to_csv('DonneesCategories.csv', index=False)"
   ]
  }
 ],
 "metadata": {
  "kernelspec": {
   "display_name": "Python 3 (ipykernel)",
   "language": "python",
   "name": "python3"
  },
  "language_info": {
   "codemirror_mode": {
    "name": "ipython",
    "version": 3
   },
   "file_extension": ".py",
   "mimetype": "text/x-python",
   "name": "python",
   "nbconvert_exporter": "python",
   "pygments_lexer": "ipython3",
   "version": "3.9.13"
  }
 },
 "nbformat": 4,
 "nbformat_minor": 5
}
